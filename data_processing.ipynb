{
 "cells": [
  {
   "cell_type": "code",
   "execution_count": null,
   "metadata": {},
   "outputs": [],
   "source": [
    "import pandas as pd\n",
    "import yfinance as yf\n",
    "from datetime import datetime, timedelta\n",
    "import re\n",
    "\n",
    "CHEMIN = \"C:/Users/mathy/OneDrive/Bureau/EthicsFinance\" # A changer selon l'endroit où vous clonez le repo git\n",
    "esg_grade = pd.read_csv(f'{CHEMIN}/Score ESG brut.csv')"
   ]
  },
  {
   "cell_type": "code",
   "execution_count": null,
   "metadata": {},
   "outputs": [],
   "source": [
    "esg_grade = esg_grade.dropna(subset=['ISSUER_EQUITY_TICKER', 'Groupe Industrie GICS', 'Score ESG brut'])\n",
    "esg_grade = esg_grade.drop(columns=['Pays', 'Date de Scoring', 'Identifiant Bloomberg Company', 'Identifiant sous industrie GICS', \"Nom de l'émetteur\"])\n",
    "esg_grade[\"ISSUER_EQUITY_TICKER\"] = esg_grade[\"ISSUER_EQUITY_TICKER\"].str.strip().str.replace(r'US$', '', regex=True)"
   ]
  },
  {
   "cell_type": "code",
   "execution_count": null,
   "metadata": {},
   "outputs": [],
   "source": [
    "esg_grade = esg_grade[~esg_grade[\"ISSUER_EQUITY_TICKER\"].str.contains(r'\\d')]"
   ]
  },
  {
   "cell_type": "code",
   "execution_count": null,
   "metadata": {},
   "outputs": [],
   "source": [
    "top_60_percent = esg_grade.sort_values(\"Score ESG brut\", ascending=False)\n",
    "top_60_percent = top_60_percent.head(int(0.6 * len(esg_grade)))\n"
   ]
  },
  {
   "cell_type": "code",
   "execution_count": null,
   "metadata": {},
   "outputs": [],
   "source": [
    "esg_grade[\"ISSUER_EQUITY_TICKER\"] = esg_grade[\"ISSUER_EQUITY_TICKER\"].str.split().str[0]"
   ]
  },
  {
   "cell_type": "code",
   "execution_count": null,
   "metadata": {},
   "outputs": [],
   "source": [
    "\n",
    "end_date = datetime.today().date()\n",
    "start_date = end_date - timedelta(days=3*365)\n",
    "\n",
    "historical_data = {}\n",
    "\n",
    "for ticker in esg_grade[\"ISSUER_EQUITY_TICKER\"].unique():\n",
    "    try:\n",
    "        # Essayer de récupérer les données\n",
    "        data = yf.download(ticker, start=start_date, end=end_date, interval=\"1d\")\n",
    "        if data.empty:\n",
    "            print(f\"Aucune donnée pour le ticker {ticker}.\")\n",
    "            continue\n",
    "        data[\"Ticker\"] = ticker\n",
    "        historical_data[ticker] = data\n",
    "    except Exception as e:\n",
    "        print(f\"Erreur pour le ticker {ticker} : {e}\")\n",
    "\n",
    "df_all_prices = pd.concat(historical_data.values())\n",
    "\n",
    "\n",
    "df_all_prices = df_all_prices.reset_index()\n",
    "\n",
    "df_all_prices.to_csv(f'{CHEMIN}/price_ticker.csv')\n",
    "print(df_all_prices.head())\n"
   ]
  },
  {
   "cell_type": "code",
   "execution_count": 26,
   "metadata": {},
   "outputs": [],
   "source": [
    "fichier_final = pd.read_csv('C:/Users/mathy/OneDrive/Bureau/EthicsFinance/price_ticker.csv')"
   ]
  },
  {
   "cell_type": "code",
   "execution_count": 27,
   "metadata": {},
   "outputs": [],
   "source": [
    "fichier_final = fichier_final.dropna(axis=1)\n"
   ]
  },
  {
   "cell_type": "code",
   "execution_count": 31,
   "metadata": {},
   "outputs": [
    {
     "name": "stderr",
     "output_type": "stream",
     "text": [
      "C:\\Users\\mathy\\AppData\\Local\\Temp\\ipykernel_16084\\549063680.py:2: FutureWarning: The default fill_method='pad' in DataFrame.pct_change is deprecated and will be removed in a future version. Either fill in any non-leading NA values prior to calling pct_change or specify 'fill_method=None' to not fill NA values.\n",
      "  daily_returns = fichier_final.pct_change()\n"
     ]
    }
   ],
   "source": [
    "fichier_final = fichier_final.apply(pd.to_numeric, errors='coerce')\n",
    "daily_returns = fichier_final.pct_change()\n",
    "\n",
    "# Calcul du rendement moyen pour chaque action\n",
    "mean_returns = daily_returns.mean()"
   ]
  },
  {
   "cell_type": "code",
   "execution_count": 32,
   "metadata": {},
   "outputs": [],
   "source": [
    "sorted_returns = mean_returns.sort_values(ascending=False)\n",
    "\n",
    "top_n = int(len(sorted_returns) * 0.5)\n",
    "\n",
    "# Garder les 50% du haut\n",
    "top_50_percent = sorted_returns.head(top_n)"
   ]
  },
  {
   "cell_type": "code",
   "execution_count": 34,
   "metadata": {},
   "outputs": [],
   "source": [
    "top_ticker_names = top_50_percent.index.tolist()"
   ]
  },
  {
   "cell_type": "code",
   "execution_count": 36,
   "metadata": {},
   "outputs": [],
   "source": [
    "top_ticker_names = pd.DataFrame(top_ticker_names)"
   ]
  },
  {
   "cell_type": "code",
   "execution_count": 37,
   "metadata": {},
   "outputs": [],
   "source": [
    "top_ticker_names.to_csv(f'{CHEMIN}/tickers_finaux.csv')"
   ]
  }
 ],
 "metadata": {
  "kernelspec": {
   "display_name": "Python 3",
   "language": "python",
   "name": "python3"
  },
  "language_info": {
   "codemirror_mode": {
    "name": "ipython",
    "version": 3
   },
   "file_extension": ".py",
   "mimetype": "text/x-python",
   "name": "python",
   "nbconvert_exporter": "python",
   "pygments_lexer": "ipython3",
   "version": "3.12.1"
  }
 },
 "nbformat": 4,
 "nbformat_minor": 2
}
